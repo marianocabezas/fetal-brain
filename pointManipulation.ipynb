{
 "cells": [
  {
   "cell_type": "code",
   "execution_count": 15,
   "id": "7e440eb5",
   "metadata": {},
   "outputs": [],
   "source": [
    "from gimpformats.gimpXcfDocument import GimpDocument\n",
    "import cv2\n",
    "import numpy as np\n",
    "\n",
    "# Concave hull\n",
    "import os\n",
    "import sys\n",
    "import pandas as pd\n",
    "from descartes import PolygonPatch\n",
    "import matplotlib.pyplot as plt\n",
    "sys.path.insert(0, os.path.dirname(os.getcwd()))\n",
    "import alphashape"
   ]
  },
  {
   "cell_type": "code",
   "execution_count": 16,
   "id": "de6a7a53",
   "metadata": {},
   "outputs": [],
   "source": [
    "def imageListFromXcf(fileName):\n",
    "    \"\"\" Give a the name of an xcf file, read it using GimpDocument\n",
    "        extract and return a list of images along with a list of layer names, return it as two lists\n",
    "    \"\"\"\n",
    "\n",
    "    \"\"\"List data on groups followed by the direct children of a gimp xcf document\n",
    "    \"\"\"\n",
    "    project = GimpDocument(fileName)\n",
    "\n",
    "    layers = project.layers\n",
    "    index = 0\n",
    "    #print(\"## Group info...\")\n",
    "    #while index < len(layers):\n",
    "    #    layerOrGroup = layers[index]\n",
    "    #    if layerOrGroup.isGroup:\n",
    "    #        index += 1\n",
    "    #        while layers[index].itemPath is not None:\n",
    "    #            #print(\"Group \\\"\" + layerOrGroup.name + \"\\\" contains Layer \\\"\" + layers[index].name + \"\\\"\")\n",
    "    #            layers.pop(index)\n",
    "    #    else:\n",
    "    #        index += 1\n",
    "\n",
    "    #print(\"## Document direct children...\")\n",
    "    #images = []\n",
    "    #for layerOrGroup in layers:\n",
    "    #    print(\"\\\"\" + layerOrGroup.name + \"\\\" is a \" + (\"Group\" if layerOrGroup.isGroup else \"Layer\"))\n",
    "    #    images.append(layerOrGroup.image)\n",
    "        #layerOrGroup.image.save(layerOrGroup.name+\"amb.png\")\n",
    "    return zip(*[(l.name,l.image) for l in layers if not l.isGroup ][:-1])# CAREFUL!\n",
    "    # Taking out the last one as it contains the full image!!!!!\n",
    "   \n",
    "\n",
    "    \n",
    "def imageToPoints(image):\n",
    "    \n",
    "    # binarize image\n",
    "    gray = cv2.cvtColor(image, cv2.COLOR_BGR2GRAY)\n",
    "    gray[gray > 0] = 255  \n",
    "\n",
    "    #compute connected components\n",
    "    numLabels, labelImage,stats, centroids = cv2.connectedComponentsWithStats(gray)\n",
    "    \n",
    "    #print(\"returning \"+str(centroids[1:]))\n",
    "    #plt.imshow(image)\n",
    "   \n",
    "    return centroids[1:] #eliminate background centroid\n",
    "\n",
    "def makeDict(names,points):\n",
    "    return { names[i]: points[i] for i in range(len(names)) }\n",
    "    \n",
    "\n",
    "def readAnnotationFile(fileName):\n",
    "    \"\"\" Give a the name of an xcf file, read it using GimpDocument\n",
    "        First extract a list of images, \n",
    "        Then extract from each image the landmark points\n",
    "        return the name of each layer along with the list of points\n",
    "    \"\"\"\n",
    "\n",
    "    \n",
    "    names,images = imageListFromXcf(fileName)\n",
    "    points = [imageToPoints(np.array(x)) for x in images]\n",
    "    \n",
    "    return names,images,points"
   ]
  },
  {
   "cell_type": "code",
   "execution_count": 17,
   "id": "2eb21c2e",
   "metadata": {},
   "outputs": [],
   "source": [
    "# POINT METRICS\n",
    "from scipy.spatial.distance import directed_hausdorff\n",
    "import numpy as np\n",
    "import persim\n",
    "\n",
    "def hausdorff(set1,set2):\n",
    "    \"\"\" Given two sets of points, compute their hausdorff distance\n",
    "\n",
    "    \"\"\"    \n",
    "    #print(\"Computing hausdorf distance of set \"+str(set1)+\" and \"+str(set2))\n",
    "    return directed_hausdorff(set1,set2)\n",
    "        \n",
    "\"\"\"\n",
    "The following function can be made much more efficient with Kd-trees (but probably no need given our data sizes)\n",
    "\"\"\"\n",
    "def avEUC(set1,set2):\n",
    "    \"\"\"\n",
    "    Average euclidean distance from a point in one set to the closest point in the other set\n",
    "    \"\"\"\n",
    "    def closestDist(p, set2):\n",
    "        \"\"\"\n",
    "            Smaller euclidean Distance from point to set\n",
    "        \"\"\"\n",
    "        minDist = np.linalg.norm(p - set2[0])\n",
    "        for q in set2[1:]:\n",
    "            newDist = np.linalg.norm(p - q)\n",
    "            if newDist < minDist:\n",
    "                minDist = newDist\n",
    "        return minDist\n",
    "    # iterate over all the set\n",
    "    sum = 0\n",
    "    for p in set1:\n",
    "        sum+=closestDist(p,set2)\n",
    "    return sum/len(set1)\n",
    "    \n",
    "def bottleneck(set1,set2):\n",
    "    \"\"\"\n",
    "        Bottleneck Distance between point sets\n",
    "    \"\"\"\n",
    "    return persim.bottleneck(set1, set2, matching=True)[0]\n",
    "\n",
    "    "
   ]
  },
  {
   "cell_type": "code",
   "execution_count": 18,
   "id": "b8445936",
   "metadata": {},
   "outputs": [],
   "source": [
    "# IMAGE METRICS\n",
    "from skimage.metrics import mean_squared_error\n",
    "from skimage.metrics import structural_similarity as ssim\n",
    "#from skimage.metrics import normalized_mutual_information as nim\n",
    "\n",
    "def MSE(im1,im2):\n",
    "    \"\"\"\n",
    "    Mean Squared Error image metric\n",
    "    \"\"\"\n",
    "    return  mean_squared_error(img1, im2)\n",
    "\n",
    "def SSIM(im1,im2):\n",
    "    \"\"\"\n",
    "    Structural Similarity Index image metric\n",
    "    \"\"\"\n",
    "    return ssim(im1, im2,data_range=max(im1.max(),im2.max()) - min(im1.min(),im2.min()))\n",
    "\n",
    "def NMI(im1,im2):\n",
    "    \"\"\"\n",
    "    Normalized mutual informacion image metric\n",
    "    \"\"\"\n",
    "    return nmi(im1,im2)"
   ]
  },
  {
   "cell_type": "code",
   "execution_count": 93,
   "id": "8bc886ce",
   "metadata": {},
   "outputs": [],
   "source": [
    "# Function that returns a concave hull from a set of points\n",
    "def concave_hull(points,alpha = 0.2):\n",
    "    \"\"\"\n",
    "    Compute the concave hull of a set of points, at least 5 points are recommended\n",
    "    3 are necessary\n",
    "    \"\"\"\n",
    "    if len(points)<=2: raise Exception(\"Concave_hull Hull, cannot compute with less than 3 points\")\n",
    "    return alphashape.alphashape(points, alpha)\n",
    "\n",
    "# Function that returns a convex hull from a set of points\n",
    "def convex_hull(points):\n",
    "    \"\"\"\n",
    "    Compute the convex hull of a set of points, at least 2 points are necessary\n",
    "    \"\"\"\n",
    "    if len(points)<=2: raise Exception(\"Convex Hull, cannot compute with less than 3 points\")\n",
    "    return alphashape.alphashape(points, 0.)\n",
    "\n",
    "def hull(points,alpha=0):\n",
    "    if len(points)<5:return convex_hull(points)\n",
    "    else: return concave_hull(points,alpha)\n",
    "\n",
    "# Function that receives two polygons and computes two binary images with coordinates that contain them both\n",
    "def polygonsToMasks(poly1,poly2):\n",
    "    print(poly1.bounds)\n",
    "    print(poly2.bounds)\n",
    "    "
   ]
  },
  {
   "cell_type": "code",
   "execution_count": 85,
   "id": "6261a3f7",
   "metadata": {},
   "outputs": [],
   "source": [
    "def overlap(im1,im2):\n",
    "    \"\"\"\n",
    "    Given two binary images, return the number of the pixels in the first image \n",
    "    that are also black in the second \n",
    "    \"\"\"\n",
    "    return np.sum(im1 == 0 and im2 ==0)    "
   ]
  },
  {
   "cell_type": "code",
   "execution_count": 20,
   "id": "c95bae9c",
   "metadata": {},
   "outputs": [
    {
     "name": "stdout",
     "output_type": "stream",
     "text": [
      "('calota', 'talems', 'cerebel', 'cavum', 'silvio', 'astes anteriors', 'linia mitja')\n",
      "4\n",
      "4\n",
      "8\n",
      "4\n",
      "3\n",
      "2\n",
      "2\n"
     ]
    },
    {
     "data": {
      "text/plain": [
       "<matplotlib.image.AxesImage at 0x7fd489c89470>"
      ]
     },
     "execution_count": 20,
     "metadata": {},
     "output_type": "execute_result"
    },
    {
     "data": {
      "image/png": "[encoded data removed]",
      "text/plain": [
       "<Figure size 432x288 with 1 Axes>"
      ]
     },
     "metadata": {
      "needs_background": "light"
     },
     "output_type": "display_data"
    }
   ],
   "source": [
    "import matplotlib.pyplot as plt\n",
    "%matplotlib inline\n",
    "\n",
    "names,images,points = readAnnotationFile(\"data/3.xcf\")\n",
    "\n",
    "print(names)\n",
    "for x in points:\n",
    "    print(len(x))\n",
    "\n",
    "plt.imshow(images[0])\n",
    "plt.imshow(images[1])\n",
    "plt.imshow(images[2])\n",
    "plt.imshow(images[3])\n",
    "plt.imshow(images[4])\n",
    "plt.imshow(images[5])"
   ]
  },
  {
   "cell_type": "code",
   "execution_count": 21,
   "id": "4420bb45",
   "metadata": {},
   "outputs": [
    {
     "name": "stdout",
     "output_type": "stream",
     "text": [
      "not all the annotations contain the same layers\n",
      "('Córtex', 'calota', 'talems', 'cerebel', 'cavum', 'silvio', 'astes anteriors', 'linia mitja')\n",
      "('linia mitja', 'astes anteriors', 'silvio', 'cerebel #1', 'c3', 'cerebel', 'talems', 'calota', 'Córtex')\n",
      "('calota', 'talems', 'cerebel', 'cavum', 'silvio', 'astes anteriors', 'linia mitja')\n",
      "('calota', 'talems', 'cerebel', 'cavum', 'silvio', 'astes anteriors', 'linia mitja')\n",
      "lists of layers with their assigned points\n",
      "{'Córtex': array([[273., 466.],\n",
      "       [303., 476.]]), 'calota': array([[342., 186.],\n",
      "       [569., 324.],\n",
      "       [192., 357.],\n",
      "       [368., 498.]]), 'talems': array([[428., 296.],\n",
      "       [462., 331.],\n",
      "       [356., 341.],\n",
      "       [432., 371.]]), 'cerebel': array([[507., 258.],\n",
      "       [543., 295.],\n",
      "       [468., 299.],\n",
      "       [533., 327.],\n",
      "       [470., 333.],\n",
      "       [544., 358.],\n",
      "       [475., 363.],\n",
      "       [520., 397.]]), 'cavum': array([[297., 325.],\n",
      "       [345., 327.],\n",
      "       [302., 358.],\n",
      "       [348., 358.]]), 'silvio': array([[357., 452.],\n",
      "       [321., 466.],\n",
      "       [390., 474.]]), 'astes anteriors': array([[266., 291.],\n",
      "       [273., 399.]]), 'linia mitja': array([[297., 344.],\n",
      "       [249., 347.]])}\n",
      "{'linia mitja': array([[169., 220.],\n",
      "       [118., 231.]]), 'astes anteriors': array([[137., 181.],\n",
      "       [153., 272.]]), 'silvio': array([[237., 305.],\n",
      "       [213., 308.],\n",
      "       [263., 318.]]), 'cerebel #1': array([[168., 199.],\n",
      "       [217., 198.],\n",
      "       [175., 225.],\n",
      "       [217., 226.]]), 'c3': array([], shape=(0, 2), dtype=float64), 'cerebel': array([[340., 117.],\n",
      "       [369., 141.],\n",
      "       [313., 155.],\n",
      "       [371., 179.],\n",
      "       [328., 188.],\n",
      "       [378., 217.],\n",
      "       [323., 222.],\n",
      "       [358., 252.]]), 'talems': array([[281., 165.],\n",
      "       [306., 190.],\n",
      "       [226., 203.],\n",
      "       [288., 225.]]), 'calota': array([[217.,  62.],\n",
      "       [400., 164.],\n",
      "       [ 49., 241.],\n",
      "       [231., 350.]]), 'Córtex': array([[100., 277.],\n",
      "       [189., 329.],\n",
      "       [157., 330.]])}\n",
      "{'calota': array([[407., 278.],\n",
      "       [208., 333.],\n",
      "       [486., 416.],\n",
      "       [324., 497.]]), 'talems': array([[315., 343.],\n",
      "       [278., 361.],\n",
      "       [361., 384.],\n",
      "       [300., 399.]]), 'cerebel': array([[267., 302.],\n",
      "       [237., 323.],\n",
      "       [284., 336.],\n",
      "       [232., 345.],\n",
      "       [272., 359.],\n",
      "       [225., 371.],\n",
      "       [269., 386.],\n",
      "       [234., 403.]]), 'cavum': array([[370., 376.],\n",
      "       [415., 383.],\n",
      "       [363., 404.],\n",
      "       [406., 413.]]), 'silvio': array([[350., 466.],\n",
      "       [322., 472.],\n",
      "       [367., 481.]]), 'astes anteriors': array([[435., 369.],\n",
      "       [416., 443.]]), 'linia mitja': array([[407., 400.],\n",
      "       [454., 411.]])}\n",
      "{'calota': array([[490., 156.],\n",
      "       [208., 317.],\n",
      "       [656., 358.],\n",
      "       [477., 516.]]), 'talems': array([[390., 289.],\n",
      "       [334., 331.],\n",
      "       [466., 343.],\n",
      "       [381., 390.]]), 'cerebel': array([[296., 245.],\n",
      "       [254., 280.],\n",
      "       [333., 294.],\n",
      "       [255., 319.],\n",
      "       [330., 330.],\n",
      "       [250., 355.],\n",
      "       [324., 364.],\n",
      "       [277., 407.]]), 'cavum': array([[477., 326.],\n",
      "       [524., 328.],\n",
      "       [475., 362.],\n",
      "       [524., 363.]]), 'silvio': array([[464., 465.],\n",
      "       [498., 467.],\n",
      "       [431., 475.]]), 'astes anteriors': array([], shape=(0, 2), dtype=float64), 'linia mitja': array([[526., 350.],\n",
      "       [606., 356.]])}\n"
     ]
    }
   ],
   "source": [
    "import matplotlib.pyplot as plt\n",
    "%matplotlib inline\n",
    "\n",
    "\n",
    "names,_,points1 = readAnnotationFile(\"data/1.xcf\")\n",
    "dict1 = makeDict(names,points1)\n",
    "\n",
    "names2,_,points2 = readAnnotationFile(\"data/Clandmarks.xcf\")\n",
    "dict2 = makeDict(names2,points2)\n",
    "\n",
    "names3,_,points3 = readAnnotationFile(\"data/3.xcf\")\n",
    "dict3 = makeDict(names3,points3)\n",
    "\n",
    "names4,_,points4 = readAnnotationFile(\"data/4.xcf\")\n",
    "dict4 = makeDict(names4,points4)\n",
    "\n",
    "print(\"not all the annotations contain the same layers\")\n",
    "print(names)\n",
    "print(names2)\n",
    "print(names3)\n",
    "print(names4)\n",
    "\n",
    "print(\"lists of layers with their assigned points\")\n",
    "print(dict1)\n",
    "print(dict2)\n",
    "print(dict3)\n",
    "print(dict4)"
   ]
  },
  {
   "cell_type": "code",
   "execution_count": 26,
   "id": "29d2319d",
   "metadata": {},
   "outputs": [
    {
     "name": "stdout",
     "output_type": "stream",
     "text": [
      "Distance <function bottleneck at 0x7fd4a4e3c8c8> computed for layer Córtex : 96.5\n",
      "Distance <function hausdorff at 0x7fd489df5840> computed for layer Córtex : (186.02419197512995, 1, 1)\n",
      "Distance <function avEUC at 0x7fd4a4e3c950> computed for layer Córtex : 173.36288938750596\n",
      "Distance <function bottleneck at 0x7fd4a4e3c8c8> computed for layer calota : 96.0\n",
      "Distance <function hausdorff at 0x7fd489df5840> computed for layer calota : (232.72515979154468, 1, 1)\n",
      "Distance <function avEUC at 0x7fd4a4e3c950> computed for layer calota : 134.01402922048612\n",
      "Distance <function bottleneck at 0x7fd4a4e3c8c8> computed for layer talems : -7.5\n",
      "Distance <function hausdorff at 0x7fd489df5840> computed for layer talems : (205.06584308460538, 3, 3)\n",
      "Distance <function avEUC at 0x7fd4a4e3c950> computed for layer talems : 175.06179810230913\n",
      "Distance <function bottleneck at 0x7fd4a4e3c8c8> computed for layer cerebel : -50.5\n",
      "Distance <function hausdorff at 0x7fd489df5840> computed for layer cerebel : (217.4143509522773, 7, 7)\n",
      "Distance <function avEUC at 0x7fd4a4e3c950> computed for layer cerebel : 169.81847151506264\n",
      "Distance <function bottleneck at 0x7fd4a4e3c8c8> computed for layer silvio : 72.5\n",
      "Distance <function hausdorff at 0x7fd489df5840> computed for layer silvio : (201.1591409804685, 2, 2)\n",
      "Distance <function avEUC at 0x7fd4a4e3c950> computed for layer silvio : 174.60029164848615\n",
      "Distance <function bottleneck at 0x7fd4a4e3c8c8> computed for layer astes anteriors : 63.0\n",
      "Distance <function hausdorff at 0x7fd489df5840> computed for layer astes anteriors : (174.72549899771354, 1, 1)\n",
      "Distance <function avEUC at 0x7fd4a4e3c950> computed for layer astes anteriors : 144.65585554138164\n",
      "Distance <function bottleneck at 0x7fd4a4e3c8c8> computed for layer linia mitja : 56.5\n",
      "Distance <function hausdorff at 0x7fd489df5840> computed for layer linia mitja : (178.2133552795637, 0, 0)\n",
      "Distance <function avEUC at 0x7fd4a4e3c950> computed for layer linia mitja : 164.15499540906967\n"
     ]
    }
   ],
   "source": [
    "# now, take the points that we have computed and use them to compute some distances\n",
    "aDict = dict1\n",
    "anotherDict = dict2\n",
    "\n",
    "for lay in aDict.keys():\n",
    "    if lay in dict2:\n",
    "        # retrieve points \n",
    "        set1 = aDict[lay]\n",
    "        set2 = anotherDict[lay]\n",
    "        distances = [bottleneck, hausdorff,avEUC]\n",
    "        for distance in distances:\n",
    "            dist = distance(set1,set2)\n",
    "            print(\"Distance \"+str(distance)+\" computed for layer \"+str(lay)+\" : \"+str(dist))"
   ]
  },
  {
   "cell_type": "code",
   "execution_count": 92,
   "id": "ae50e3b4",
   "metadata": {},
   "outputs": [
    {
     "name": "stdout",
     "output_type": "stream",
     "text": [
      "calota\n",
      "POLYGON ((490 156, 208 317, 477 516, 656 358, 490 156))\n"
     ]
    },
    {
     "data": {
      "image/png": "[encoded data removed]",
      "text/plain": [
       "<Figure size 432x288 with 1 Axes>"
      ]
     },
     "metadata": {
      "needs_background": "light"
     },
     "output_type": "display_data"
    },
    {
     "name": "stdout",
     "output_type": "stream",
     "text": [
      "talems\n",
      "POLYGON ((390 289, 334 331, 381 390, 466 343, 390 289))\n"
     ]
    },
    {
     "data": {
      "image/png": "[encoded data removed]",
      "text/plain": [
       "<Figure size 432x288 with 1 Axes>"
      ]
     },
     "metadata": {
      "needs_background": "light"
     },
     "output_type": "display_data"
    },
    {
     "name": "stdout",
     "output_type": "stream",
     "text": [
      "cerebel\n",
      "POLYGON ((277 407, 324 364, 330 330, 333 294, 296 245, 254 280, 255 319, 250 355, 277 407))\n"
     ]
    },
    {
     "data": {
      "image/png": "[encoded data removed]",
      "text/plain": [
       "<Figure size 432x288 with 1 Axes>"
      ]
     },
     "metadata": {
      "needs_background": "light"
     },
     "output_type": "display_data"
    },
    {
     "name": "stdout",
     "output_type": "stream",
     "text": [
      "cavum\n",
      "POLYGON ((477 326, 475 362, 524 363, 524 328, 477 326))\n"
     ]
    },
    {
     "data": {
      "image/png": "[encoded data removed]",
      "text/plain": [
       "<Figure size 432x288 with 1 Axes>"
      ]
     },
     "metadata": {
      "needs_background": "light"
     },
     "output_type": "display_data"
    },
    {
     "name": "stdout",
     "output_type": "stream",
     "text": [
      "silvio\n",
      "POLYGON ((464 465, 431 475, 498 467, 464 465))\n"
     ]
    },
    {
     "data": {
      "image/png": "[encoded data removed]",
      "text/plain": [
       "<Figure size 432x288 with 1 Axes>"
      ]
     },
     "metadata": {
      "needs_background": "light"
     },
     "output_type": "display_data"
    },
    {
     "name": "stdout",
     "output_type": "stream",
     "text": [
      "astes anteriors\n",
      "Layer astes anteriors has too few points 0\n",
      "linia mitja\n",
      "Layer linia mitja has too few points 2\n"
     ]
    }
   ],
   "source": [
    "# Compute the concave and convex hulls of a data set\n",
    "aDict = dict4\n",
    "# Retrieve all layers\n",
    "for lay in aDict.keys():\n",
    "    #for every layer, get its points\n",
    "    aPointSet = aDict[lay]\n",
    "    print(lay)\n",
    "    #if we don't have at least 3 points we cannot compute anything\n",
    "    if len(aPointSet) > 2 :\n",
    "        # compute convex or concave hull depending on how many points we have\n",
    "        if len(aPointSet) > 5:\n",
    "            hull = concave_hull(aPointSet,0.02)\n",
    "        else:\n",
    "            hull = concave_hull(aPointSet,0)\n",
    "        fig, ax = plt.subplots()\n",
    "        ax.scatter(*zip(*aPointSet))\n",
    "        print(hull)\n",
    "        ax.add_patch(PolygonPatch(hull,alpha = 0.2))\n",
    "        plt.savefig(lay+\".png\")\n",
    "        plt.show()\n",
    "    else:\n",
    "        print(\"Layer \"+lay+\" has too few points \"+str(len(aPointSet)))"
   ]
  },
  {
   "cell_type": "code",
   "execution_count": 95,
   "id": "879e3c29",
   "metadata": {},
   "outputs": [
    {
     "name": "stdout",
     "output_type": "stream",
     "text": [
      "(192.0, 186.0, 569.0, 498.0)\n",
      "(49.0, 62.0, 400.0, 350.0)\n",
      "None\n",
      "(356.0, 296.0, 462.0, 371.0)\n",
      "(226.0, 165.0, 306.0, 225.0)\n",
      "None\n",
      "(468.0, 258.0, 544.0, 397.0)\n",
      "(313.0, 117.0, 378.0, 252.0)\n",
      "None\n",
      "(321.0, 452.0, 390.0, 474.0)\n",
      "(213.0, 305.0, 263.0, 318.0)\n",
      "None\n"
     ]
    }
   ],
   "source": [
    "# Given two images, compute the hulls of all layers and compute their dice\n",
    "# now, take the points that we have computed and use them to compute some distances\n",
    "aDict = dict1\n",
    "anotherDict = dict2\n",
    "\n",
    "for lay in aDict.keys():\n",
    "    if lay in dict2:\n",
    "        # retrieve points \n",
    "        set1 = aDict[lay]\n",
    "        set2 = anotherDict[lay]\n",
    "        if len(set1) > 2 and len(set2)>2:\n",
    "            poly1 = hull(set1)\n",
    "            poly2 = hull(set2)\n",
    "            \n",
    "            print(polygonsToMasks(poly1,poly2))\n",
    "    "
   ]
  },
  {
   "cell_type": "code",
   "execution_count": null,
   "id": "7bec1d82",
   "metadata": {},
   "outputs": [],
   "source": []
  }
 ],
 "metadata": {
  "kernelspec": {
   "display_name": "Python 3",
   "language": "python",
   "name": "python3"
  },
  "language_info": {
   "codemirror_mode": {
    "name": "ipython",
    "version": 3
   },
   "file_extension": ".py",
   "mimetype": "text/x-python",
   "name": "python",
   "nbconvert_exporter": "python",
   "pygments_lexer": "ipython3",
   "version": "3.6.13"
  }
 },
 "nbformat": 4,
 "nbformat_minor": 5
}
