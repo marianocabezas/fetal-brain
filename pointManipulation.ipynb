{
 "cells": [
  {
   "cell_type": "code",
   "execution_count": 23,
   "id": "7e440eb5",
   "metadata": {},
   "outputs": [],
   "source": [
    "from gimpformats.gimpXcfDocument import GimpDocument\n",
    "import cv2\n",
    "import numpy as np\n"
   ]
  },
  {
   "cell_type": "code",
   "execution_count": 59,
   "id": "de6a7a53",
   "metadata": {},
   "outputs": [],
   "source": [
    "def imageListFromXcf(fileName):\n",
    "    \"\"\" Give a the name of an xcf file, read it using GimpDocument\n",
    "        extract and return a list of images along with a list of layer names, return it as two lists\n",
    "    \"\"\"\n",
    "\n",
    "    \"\"\"List data on groups followed by the direct children of a gimp xcf document\n",
    "    \"\"\"\n",
    "    project = GimpDocument(fileName)\n",
    "\n",
    "    layers = project.layers\n",
    "    index = 0\n",
    "    #print(\"## Group info...\")\n",
    "    #while index < len(layers):\n",
    "    #    layerOrGroup = layers[index]\n",
    "    #    if layerOrGroup.isGroup:\n",
    "    #        index += 1\n",
    "    #        while layers[index].itemPath is not None:\n",
    "    #            #print(\"Group \\\"\" + layerOrGroup.name + \"\\\" contains Layer \\\"\" + layers[index].name + \"\\\"\")\n",
    "    #            layers.pop(index)\n",
    "    #    else:\n",
    "    #        index += 1\n",
    "\n",
    "    #print(\"## Document direct children...\")\n",
    "    #images = []\n",
    "    #for layerOrGroup in layers:\n",
    "    #    print(\"\\\"\" + layerOrGroup.name + \"\\\" is a \" + (\"Group\" if layerOrGroup.isGroup else \"Layer\"))\n",
    "    #    images.append(layerOrGroup.image)\n",
    "        #layerOrGroup.image.save(layerOrGroup.name+\"amb.png\")\n",
    "    return zip(*[(l.name,l.image) for l in layers if not l.isGroup ][:-1])# CAREFUL!\n",
    "    # Taking out the last one as it contains the full image!!!!!\n",
    "   \n",
    "\n",
    "    \n",
    "def imageToPoints(image):\n",
    "    \n",
    "    # binarize image\n",
    "    gray = cv2.cvtColor(image, cv2.COLOR_BGR2GRAY)\n",
    "    gray[gray > 0] = 255  \n",
    "\n",
    "    #compute connected components\n",
    "    numLabels, labelImage,stats, centroids = cv2.connectedComponentsWithStats(gray)\n",
    "    \n",
    "    #print(\"returning \"+str(centroids[1:]))\n",
    "    #plt.imshow(image)\n",
    "   \n",
    "    return centroids[1:] #eliminate background centroid\n",
    "    \n",
    "\n",
    "def readAnnotationFile(fileName):\n",
    "    \"\"\" Give a the name of an xcf file, read it using GimpDocument\n",
    "        First extract a list of images, \n",
    "        Then extract from each image the landmark points\n",
    "        return the name of each layer along with the list of points\n",
    "    \"\"\"\n",
    "\n",
    "    \n",
    "    names,images = imageListFromXcf(fileName)\n",
    "    points = [imageToPoints(np.array(x)) for x in images]\n",
    "    \n",
    "    return names,images,points\n",
    "    \n",
    "        \n",
    "        "
   ]
  },
  {
   "cell_type": "code",
   "execution_count": 60,
   "id": "c95bae9c",
   "metadata": {},
   "outputs": [
    {
     "name": "stdout",
     "output_type": "stream",
     "text": [
      "('linia mitja', 'astes anteriors', 'silvio', 'cerebel #1', 'c3', 'cerebel', 'talems', 'calota', 'Córtex')\n",
      "2\n",
      "2\n",
      "3\n",
      "4\n",
      "0\n",
      "8\n",
      "4\n",
      "4\n",
      "3\n"
     ]
    },
    {
     "data": {
      "image/png": "[encoded data removed]",
      "text/plain": [
       "<Figure size 432x288 with 1 Axes>"
      ]
     },
     "metadata": {
      "needs_background": "light"
     },
     "output_type": "display_data"
    }
   ],
   "source": [
    "import matplotlib.pyplot as plt\n",
    "%matplotlib inline\n",
    "\n",
    "names,images,points = readAnnotationFile(\"Clandmarks.xcf\")\n",
    "\n",
    "print(names)\n",
    "for x in points:\n",
    "    print(len(x))\n",
    "\n",
    "plt.imshow(images[0])\n",
    "plt.imshow(images[1])\n",
    "plt.imshow(images[2])\n",
    "plt.imshow(images[3])\n",
    "plt.imshow(images[4])\n",
    "plt.imshow(images[5])\n",
    "\n",
    "rows = 2\n",
    "\n",
    "#for num, im in enumerate(images):\n",
    "#    img = im\n",
    "#    plt.subplot(rows,6,num+1)\n",
    "#    plt.title(str(num))\n",
    "#    plt.axis('off')\n",
    "#    plt.imshow(img)"
   ]
  },
  {
   "cell_type": "code",
   "execution_count": null,
   "id": "4420bb45",
   "metadata": {},
   "outputs": [],
   "source": []
  },
  {
   "cell_type": "code",
   "execution_count": null,
   "id": "29d2319d",
   "metadata": {},
   "outputs": [],
   "source": []
  }
 ],
 "metadata": {
  "kernelspec": {
   "display_name": "Python 3",
   "language": "python",
   "name": "python3"
  },
  "language_info": {
   "codemirror_mode": {
    "name": "ipython",
    "version": 3
   },
   "file_extension": ".py",
   "mimetype": "text/x-python",
   "name": "python",
   "nbconvert_exporter": "python",
   "pygments_lexer": "ipython3",
   "version": "3.6.13"
  }
 },
 "nbformat": 4,
 "nbformat_minor": 5
}
