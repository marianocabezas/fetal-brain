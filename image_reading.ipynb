{
 "cells": [
  {
   "cell_type": "code",
   "execution_count": 3,
   "id": "1b76b9e7",
   "metadata": {},
   "outputs": [
    {
     "name": "stdout",
     "output_type": "stream",
     "text": [
      "[  0. 144. 217.] [(220.0, 169.0), (231.0, 118.0)]\n",
      "[ 21.  49. 246.] [(277.0, 100.0), (329.0, 189.0), (330.0, 157.0)]\n",
      "[ 21. 246.  34.] [(198.0, 217.0), (199.0, 168.0), (225.0, 175.0), (226.0, 217.0)]\n",
      "[ 98.   0. 217.] [(165.0, 281.0), (190.0, 306.0), (203.0, 226.0), (225.0, 288.0)]\n",
      "[217.   0. 212.] [(181.0, 137.0), (272.0, 153.0)]\n",
      "[217.  22.   0.] [(305.0, 237.0), (308.0, 213.0), (318.0, 263.0)]\n",
      "[217. 117.   0.] [(117.0, 340.0), (141.0, 369.0), (155.0, 313.0), (179.0, 371.0), (188.0, 328.0), (217.0, 378.0), (222.0, 323.0), (252.0, 358.0)]\n",
      "[255. 211.   0.] [(62.0, 217.0), (164.0, 400.0), (241.0, 49.0), (350.0, 231.0)]\n"
     ]
    }
   ],
   "source": [
    "import os\n",
    "import numpy as np\n",
    "from matplotlib.image import imread\n",
    "from skimage.measure import label, regionprops\n",
    "from skimage.color import rgb2gray, rgba2rgb\n",
    "\n",
    "points_path = 'Sample/Clandmarks.png'\n",
    "image_path = 'Sample/Cim.png'\n",
    "points_im = imread(points_path)\n",
    "rgb_im = rgba2rgb(points_im)\n",
    "im = rgb2gray(rgb_im)\n",
    "rgb_points = rgba2rgb(points_im)\n",
    "points = rgb_points[points_im[..., -1] == 1, :]\n",
    "regions = np.unique(points, axis=0)\n",
    "for region in regions:\n",
    "    region_mask = np.prod(\n",
    "        rgb_im == region.reshape(1, 3), axis=-1\n",
    "    ).astype(bool)\n",
    "    label_img = label(region_mask)\n",
    "    region_props = regionprops(label_img)\n",
    "    centroids = [prop.centroid for prop in region_props]\n",
    "    print(region * 255, centroids)"
   ]
  },
  {
   "cell_type": "code",
   "execution_count": null,
   "id": "6bfcb130",
   "metadata": {},
   "outputs": [],
   "source": []
  }
 ],
 "metadata": {
  "kernelspec": {
   "display_name": "Python 3",
   "language": "python",
   "name": "python3"
  },
  "language_info": {
   "codemirror_mode": {
    "name": "ipython",
    "version": 3
   },
   "file_extension": ".py",
   "mimetype": "text/x-python",
   "name": "python",
   "nbconvert_exporter": "python",
   "pygments_lexer": "ipython3",
   "version": "3.7.5"
  }
 },
 "nbformat": 4,
 "nbformat_minor": 5
}
