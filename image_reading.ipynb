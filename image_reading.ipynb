{
 "cells": [
  {
   "cell_type": "code",
   "execution_count": 3,
   "id": "6e558e29",
   "metadata": {},
   "outputs": [
    {
     "ename": "NameError",
     "evalue": "name 'rgbbbbbbbbbbbbbbbbbb_im' is not defined",
     "output_type": "error",
     "traceback": [
      "\u001b[0;31m---------------------------------------------------------------------------\u001b[0m",
      "\u001b[0;31mNameError\u001b[0m                                 Traceback (most recent call last)",
      "\u001b[0;32m<ipython-input-3-872a090081be>\u001b[0m in \u001b[0;36m<module>\u001b[0;34m\u001b[0m\n\u001b[1;32m     13\u001b[0m \u001b[0;32mfor\u001b[0m \u001b[0mregion\u001b[0m \u001b[0;32min\u001b[0m \u001b[0mregions\u001b[0m\u001b[0;34m:\u001b[0m\u001b[0;34m\u001b[0m\u001b[0;34m\u001b[0m\u001b[0m\n\u001b[1;32m     14\u001b[0m     region_mask = np.prod(\n\u001b[0;32m---> 15\u001b[0;31m         \u001b[0mrgbbbbbbbbbbbbbbbbbb_im\u001b[0m \u001b[0;34m==\u001b[0m \u001b[0mregion\u001b[0m\u001b[0;34m.\u001b[0m\u001b[0mreshape\u001b[0m\u001b[0;34m(\u001b[0m\u001b[0;36m1\u001b[0m\u001b[0;34m,\u001b[0m \u001b[0;36m3\u001b[0m\u001b[0;34m)\u001b[0m\u001b[0;34m,\u001b[0m \u001b[0maxis\u001b[0m\u001b[0;34m=\u001b[0m\u001b[0;34m-\u001b[0m\u001b[0;36m1\u001b[0m\u001b[0;34m\u001b[0m\u001b[0;34m\u001b[0m\u001b[0m\n\u001b[0m\u001b[1;32m     16\u001b[0m     ).astype(bool)\n\u001b[1;32m     17\u001b[0m     \u001b[0mlabel_img\u001b[0m \u001b[0;34m=\u001b[0m \u001b[0mlabel\u001b[0m\u001b[0;34m(\u001b[0m\u001b[0mregion_mask\u001b[0m\u001b[0;34m)\u001b[0m\u001b[0;34m\u001b[0m\u001b[0;34m\u001b[0m\u001b[0m\n",
      "\u001b[0;31mNameError\u001b[0m: name 'rgbbbbbbbbbbbbbbbbbb_im' is not defined"
     ]
    }
   ],
   "source": [
    "from matplotlib.image import imread\n",
    "from skimage.measure import label, regionprops\n",
    "from skimage.color import rgb2gray, rgba2rgb\n",
    "import numpy as np\n",
    "points_path = 'Sample/Clandmarks.png'\n",
    "image_path = 'Sample/Cim.png'\n",
    "points_im = imread(points_path)\n",
    "rgb_im = rgba2rgb(points_im)\n",
    "im = rgb2gray(rgb_im)\n",
    "rgb_points = rgba2rgb(points_im)\n",
    "points = rgb_points[points_im[..., -1] == 1, :]\n",
    "regions = np.unique(points, axis=0)\n",
    "for region in regions:\n",
    "    region_mask = np.prod(\n",
    "        rgb_im == region.reshape(1, 3), axis=-1\n",
    "    ).astype(bool)\n",
    "    label_img = label(region_mask)\n",
    "    region_props = regionprops(label_img)\n",
    "    centroids = [prop.centroid for prop in region_props]\n",
    "    print(region * 255, centroids)"
   ]
  },
  {
   "cell_type": "code",
   "execution_count": null,
   "id": "2c46e1f8",
   "metadata": {},
   "outputs": [],
   "source": []
  }
 ],
 "metadata": {
  "kernelspec": {
   "display_name": "Python 3",
   "language": "python",
   "name": "python3"
  },
  "language_info": {
   "codemirror_mode": {
    "name": "ipython",
    "version": 3
   },
   "file_extension": ".py",
   "mimetype": "text/x-python",
   "name": "python",
   "nbconvert_exporter": "python",
   "pygments_lexer": "ipython3",
   "version": "3.7.5"
  }
 },
 "nbformat": 4,
 "nbformat_minor": 5
}
